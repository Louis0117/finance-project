{
 "cells": [
  {
   "cell_type": "markdown",
   "id": "1a5cd4e6",
   "metadata": {},
   "source": [
    "# problem defination:  \n",
    "**using LSTM predict crypto DASH price -> regression problem**"
   ]
  },
  {
   "cell_type": "markdown",
   "id": "daaa4e18",
   "metadata": {},
   "source": [
    "### import python package"
   ]
  },
  {
   "cell_type": "code",
   "execution_count": 14,
   "id": "603a65b5",
   "metadata": {},
   "outputs": [],
   "source": [
    "# import python package\n",
    "import pandas as pd\n",
    "import torch\n",
    "import torch.nn as nn\n",
    "from torch.utils.data import Dataset, DataLoader\n",
    "import matplotlib.pyplot as plt\n",
    "import  math"
   ]
  },
  {
   "cell_type": "markdown",
   "id": "c37b8dc5",
   "metadata": {},
   "source": [
    "### dataset"
   ]
  },
  {
   "cell_type": "code",
   "execution_count": 2,
   "id": "95c885f3",
   "metadata": {},
   "outputs": [],
   "source": [
    "class single_model_dataset(Dataset):\n",
    "    def __init__(self, features, label):\n",
    "        self.features = features\n",
    "        self.label = label\n",
    "    \n",
    "    def __len__(self):\n",
    "        return len(self.features)\n",
    "    \n",
    "    def __getitem__(self, idx):\n",
    "        # 從 data DataFrame 中提取特徵，並轉換為 PyTorch Tensor\n",
    "        features = torch.tensor(self.features[idx].iloc[:, [2, 3, 4, 5]].values, dtype=torch.float32)\n",
    "        \n",
    "        # 從 label DataFrame 中提取標籤，並轉換為 PyTorch Tensor\n",
    "        label = torch.tensor(self.label[idx]['Close'], dtype=torch.float32)  # 假設標籤為整數型態\n",
    "        return features, label"
   ]
  },
  {
   "cell_type": "code",
   "execution_count": 4,
   "id": "eefc1f16",
   "metadata": {},
   "outputs": [],
   "source": [
    "def price_normalization(price_data):\n",
    "    digits = int(math.log10(max(list(price_data['High']))))\n",
    "    normalize_number = math.pow(10, digits)\n",
    "    normalize_columns = price_data[['Open', 'High', 'Close', 'Low']]/normalize_number\n",
    "    price_data[['Open', 'High', 'Close', 'Low']] = normalize_columns[['Open', 'High', 'Close', 'Low']]\n",
    "    \n",
    "    return price_data\n",
    "\n",
    "\n",
    "def split_training_teseting_dataset(df, train_date, test_date):  \n",
    "    # get index\n",
    "    for i in range(len(df)):\n",
    "        if df['Date'][i] == train_date:\n",
    "            train_start_index = i\n",
    "            \n",
    "        elif df['Date'][i] == test_date:\n",
    "            test_start_index = i  \n",
    "    # split training / testing\n",
    "    train_dataset = df.iloc[train_start_index:test_start_index].reset_index(drop=True)\n",
    "    test_dataset = df.iloc[test_start_index:].reset_index(drop=True)\n",
    "    return train_dataset, test_dataset\n",
    "\n",
    "def split_dataset_xy(data, window_size, datatype):\n",
    "    x = []\n",
    "    y = []\n",
    "    \n",
    "    if datatype=='nparray':\n",
    "        for i in range(len(data)-window_size):\n",
    "            x.append(data[i:i+window_size,:])\n",
    "            y.append(data[i+window_size,:])\n",
    "        return x,y            \n",
    "    \n",
    "    elif datatype=='dataframe':\n",
    "        for i in range(len(data)-window_size):\n",
    "            x.append(data.iloc[i:i+window_size,:])\n",
    "            y.append(data.iloc[i+window_size,:])\n",
    "        return x,y    "
   ]
  },
  {
   "cell_type": "code",
   "execution_count": 6,
   "id": "6726a362",
   "metadata": {},
   "outputs": [],
   "source": [
    "# read data\n",
    "DASH_price = pd.read_csv('/Users/welcome870117/Desktop/git_project/finance-project/paper_implement/DL-GuesS/dataset/DASH_dataset.csv', index_col = False)\n",
    "# data normalization \n",
    "DASH_price_n = price_normalization(DASH_price)\n",
    "# split trainset, testset\n",
    "training_dataset, testing_dataset = split_training_teseting_dataset(DASH_price_n, '2014-02-14', '2023-04-01')\n",
    "# get dataset x, y\n",
    "train_x, train_y = split_dataset_xy(training_dataset, 5, 'dataframe')\n",
    "test_x, test_y = split_dataset_xy(testing_dataset, 5, 'dataframe')\n",
    "# torch dataset\n",
    "dataset_single = single_model_dataset(train_x, train_y)\n",
    "dataset_single_test = single_model_dataset(test_x, test_y)\n",
    "# torch dataloader\n",
    "dataset_single_dataloader = DataLoader(dataset_single,  batch_size=16, shuffle=False)\n",
    "dataset_single_test_dataloader = DataLoader(dataset_single_test,  batch_size=1, shuffle=False)"
   ]
  },
  {
   "cell_type": "markdown",
   "id": "40d1cf89",
   "metadata": {},
   "source": [
    "### LSTM model"
   ]
  },
  {
   "cell_type": "code",
   "execution_count": 18,
   "id": "9310de70",
   "metadata": {},
   "outputs": [],
   "source": [
    "class LSTM(nn.Module):\n",
    "    def __init__(self):\n",
    "        super(LSTM, self).__init__()\n",
    "        \n",
    "        self.lstm = nn.LSTM(\n",
    "            input_size=4,   # feature size\n",
    "            hidden_size=64,\n",
    "            num_layers=1, \n",
    "            batch_first=True)\n",
    "        \n",
    "        self.out = nn.Sequential(\n",
    "            nn.Linear(64,1))\n",
    "        \n",
    "    def forward(self, x):\n",
    "        r_out, (h_n, h_c) = self.lstm(x, None)   # None not init hidden state, just using 0\n",
    "        out = self.out(r_out[:, -1, :])          # final day output\n",
    "        \n",
    "        return out"
   ]
  },
  {
   "cell_type": "markdown",
   "id": "9e4d49bf",
   "metadata": {},
   "source": [
    "### Hyperparameters"
   ]
  },
  {
   "cell_type": "code",
   "execution_count": 16,
   "id": "b2352405",
   "metadata": {},
   "outputs": [],
   "source": [
    "LR = 0.0001\n",
    "EPOCH = 50"
   ]
  },
  {
   "cell_type": "markdown",
   "id": "65105814",
   "metadata": {},
   "source": [
    "### training"
   ]
  },
  {
   "cell_type": "code",
   "execution_count": 19,
   "id": "5541f3e9",
   "metadata": {},
   "outputs": [
    {
     "name": "stderr",
     "output_type": "stream",
     "text": [
      "/Users/welcome870117/opt/anaconda3/envs/trading/lib/python3.7/site-packages/torch/nn/modules/loss.py:536: UserWarning: Using a target size (torch.Size([16])) that is different to the input size (torch.Size([16, 1])). This will likely lead to incorrect results due to broadcasting. Please ensure they have the same size.\n",
      "  return F.mse_loss(input, target, reduction=self.reduction)\n"
     ]
    },
    {
     "name": "stdout",
     "output_type": "stream",
     "text": [
      "total_loss: tensor(5.2082, grad_fn=<AddBackward0>)\n",
      "total_loss: tensor(4.2973, grad_fn=<AddBackward0>)\n",
      "total_loss: tensor(3.3243, grad_fn=<AddBackward0>)\n",
      "total_loss: tensor(2.2819, grad_fn=<AddBackward0>)\n",
      "total_loss: tensor(1.2621, grad_fn=<AddBackward0>)\n",
      "total_loss: tensor(0.5348, grad_fn=<AddBackward0>)\n",
      "total_loss: tensor(0.2940, grad_fn=<AddBackward0>)\n",
      "total_loss: tensor(0.2766, grad_fn=<AddBackward0>)\n",
      "total_loss: tensor(0.2730, grad_fn=<AddBackward0>)\n",
      "total_loss: tensor(0.2698, grad_fn=<AddBackward0>)\n",
      "total_loss: tensor(0.2677, grad_fn=<AddBackward0>)\n",
      "total_loss: tensor(0.2662, grad_fn=<AddBackward0>)\n",
      "total_loss: tensor(0.2655, grad_fn=<AddBackward0>)\n",
      "total_loss: tensor(0.2653, grad_fn=<AddBackward0>)\n",
      "total_loss: tensor(0.2655, grad_fn=<AddBackward0>)\n",
      "total_loss: tensor(0.2660, grad_fn=<AddBackward0>)\n",
      "total_loss: tensor(0.2666, grad_fn=<AddBackward0>)\n",
      "total_loss: tensor(0.2674, grad_fn=<AddBackward0>)\n",
      "total_loss: tensor(0.2682, grad_fn=<AddBackward0>)\n",
      "total_loss: tensor(0.2689, grad_fn=<AddBackward0>)\n",
      "total_loss: tensor(0.2695, grad_fn=<AddBackward0>)\n",
      "total_loss: tensor(0.2700, grad_fn=<AddBackward0>)\n",
      "total_loss: tensor(0.2704, grad_fn=<AddBackward0>)\n",
      "total_loss: tensor(0.2707, grad_fn=<AddBackward0>)\n",
      "total_loss: tensor(0.2708, grad_fn=<AddBackward0>)\n",
      "total_loss: tensor(0.2709, grad_fn=<AddBackward0>)\n",
      "total_loss: tensor(0.2709, grad_fn=<AddBackward0>)\n",
      "total_loss: tensor(0.2708, grad_fn=<AddBackward0>)\n",
      "total_loss: tensor(0.2707, grad_fn=<AddBackward0>)\n",
      "total_loss: tensor(0.2705, grad_fn=<AddBackward0>)\n",
      "total_loss: tensor(0.2703, grad_fn=<AddBackward0>)\n",
      "total_loss: tensor(0.2701, grad_fn=<AddBackward0>)\n",
      "total_loss: tensor(0.2698, grad_fn=<AddBackward0>)\n",
      "total_loss: tensor(0.2695, grad_fn=<AddBackward0>)\n",
      "total_loss: tensor(0.2693, grad_fn=<AddBackward0>)\n",
      "total_loss: tensor(0.2690, grad_fn=<AddBackward0>)\n",
      "total_loss: tensor(0.2687, grad_fn=<AddBackward0>)\n",
      "total_loss: tensor(0.2683, grad_fn=<AddBackward0>)\n",
      "total_loss: tensor(0.2680, grad_fn=<AddBackward0>)\n",
      "total_loss: tensor(0.2677, grad_fn=<AddBackward0>)\n",
      "total_loss: tensor(0.2674, grad_fn=<AddBackward0>)\n",
      "total_loss: tensor(0.2671, grad_fn=<AddBackward0>)\n",
      "total_loss: tensor(0.2668, grad_fn=<AddBackward0>)\n",
      "total_loss: tensor(0.2664, grad_fn=<AddBackward0>)\n",
      "total_loss: tensor(0.2661, grad_fn=<AddBackward0>)\n",
      "total_loss: tensor(0.2658, grad_fn=<AddBackward0>)\n",
      "total_loss: tensor(0.2655, grad_fn=<AddBackward0>)\n",
      "total_loss: tensor(0.2652, grad_fn=<AddBackward0>)\n",
      "total_loss: tensor(0.2648, grad_fn=<AddBackward0>)\n",
      "total_loss: tensor(0.2645, grad_fn=<AddBackward0>)\n"
     ]
    }
   ],
   "source": [
    "# \n",
    "model = LSTM()\n",
    "# loss\n",
    "criterion = torch.nn.MSELoss(reduction='mean')\n",
    "#  optimiser\n",
    "optimiser = torch.optim.Adam(model.parameters(), lr=LR)\n",
    "\n",
    "for t in range(EPOCH):\n",
    "    total_loss = []\n",
    "    sum_loss = 0\n",
    "    for i,data in enumerate(dataset_single_dataloader):\n",
    "        feature, label = data           \n",
    "        model_predict = model(feature)\n",
    "        loss = criterion(model_predict,label)\n",
    "        sum_loss+=loss\n",
    "        total_loss.append(sum_loss)\n",
    "        optimiser.zero_grad()\n",
    "        loss.backward()\n",
    "        optimiser.step() \n",
    "    print('total_loss:',sum_loss)"
   ]
  },
  {
   "cell_type": "markdown",
   "id": "74c5333a",
   "metadata": {},
   "source": [
    "### testing"
   ]
  },
  {
   "cell_type": "code",
   "execution_count": 43,
   "id": "e732fda3",
   "metadata": {},
   "outputs": [],
   "source": [
    "model_predict = []\n",
    "real_price = []\n",
    "for i,data in enumerate(dataset_single_test_dataloader):\n",
    "    features, label = data\n",
    "    predict = model(features)\n",
    "    model_predict.append(predict.detach().numpy().reshape(-1,)[0])  \n",
    "    real_price.append(label.detach().numpy().reshape(-1,)[0])"
   ]
  },
  {
   "cell_type": "markdown",
   "id": "0bbd491f",
   "metadata": {},
   "source": [
    "### plot"
   ]
  },
  {
   "cell_type": "markdown",
   "id": "15528d85",
   "metadata": {},
   "source": [
    "##### price predict"
   ]
  },
  {
   "cell_type": "code",
   "execution_count": 33,
   "id": "c7e77737",
   "metadata": {},
   "outputs": [],
   "source": [
    "date_index = [d['Date'] for d in test_y]"
   ]
  },
  {
   "cell_type": "code",
   "execution_count": 45,
   "id": "043e19db",
   "metadata": {},
   "outputs": [],
   "source": [
    "real_price = [ p*1000 for p in real_price]\n",
    "model_predict = [ p*1000 for p in model_predict]"
   ]
  },
  {
   "cell_type": "code",
   "execution_count": 46,
   "id": "cea90df9",
   "metadata": {},
   "outputs": [
    {
     "data": {
      "image/png": "[encoded data removed]",
      "text/plain": [
       "<Figure size 1152x576 with 1 Axes>"
      ]
     },
     "metadata": {
      "needs_background": "light"
     },
     "output_type": "display_data"
    }
   ],
   "source": [
    "plt.figure(figsize = (16,8))\n",
    "plt.plot(date_index, real_price, c='black', label = 'real')\n",
    "plt.plot(date_index, model_predict, c='blue', label = 'prediction')\n",
    "plt.legend()\n",
    "plt.xticks(rotation=90)\n",
    "plt.grid(True)"
   ]
  }
 ],
 "metadata": {
  "kernelspec": {
   "display_name": "Python 3 (ipykernel)",
   "language": "python",
   "name": "python3"
  },
  "language_info": {
   "codemirror_mode": {
    "name": "ipython",
    "version": 3
   },
   "file_extension": ".py",
   "mimetype": "text/x-python",
   "name": "python",
   "nbconvert_exporter": "python",
   "pygments_lexer": "ipython3",
   "version": "3.7.13"
  }
 },
 "nbformat": 4,
 "nbformat_minor": 5
}
